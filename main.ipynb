{
 "cells": [
  {
   "cell_type": "code",
   "execution_count": 238,
   "metadata": {},
   "outputs": [],
   "source": [
    "import numpy as np\n",
    "import pandas as pd\n",
    "import matplotlib.pyplot as plt\n",
    "import seaborn as sns \n",
    "import nltk  \n",
    "from sklearn.tree import DecisionTreeClassifier\n",
    "from sklearn.model_selection import train_test_split\n",
    "from sklearn.preprocessing import OneHotEncoder\n",
    "from sklearn.preprocessing import LabelEncoder\n"
   ]
  },
  {
   "cell_type": "code",
   "execution_count": 239,
   "metadata": {},
   "outputs": [
    {
     "name": "stdout",
     "output_type": "stream",
     "text": [
      "<class 'pandas.core.frame.DataFrame'>\n",
      "RangeIndex: 783 entries, 0 to 782\n",
      "Data columns (total 19 columns):\n",
      " #   Column                Non-Null Count  Dtype  \n",
      "---  ------                --------------  -----  \n",
      " 0   id                    783 non-null    int64  \n",
      " 1   school_year           783 non-null    int64  \n",
      " 2   age                   783 non-null    int64  \n",
      " 3   gender                783 non-null    object \n",
      " 4   bmi                   783 non-null    float64\n",
      " 5   who_bmi               783 non-null    object \n",
      " 6   phq_score             783 non-null    int64  \n",
      " 7   depression_severity   779 non-null    object \n",
      " 8   depressiveness        780 non-null    object \n",
      " 9   suicidal              782 non-null    object \n",
      " 10  depression_diagnosis  782 non-null    object \n",
      " 11  depression_treatment  779 non-null    object \n",
      " 12  gad_score             783 non-null    int64  \n",
      " 13  anxiety_severity      783 non-null    object \n",
      " 14  anxiousness           777 non-null    object \n",
      " 15  anxiety_diagnosis     779 non-null    object \n",
      " 16  anxiety_treatment     781 non-null    object \n",
      " 17  epworth_score         775 non-null    float64\n",
      " 18  sleepiness            775 non-null    object \n",
      "dtypes: float64(2), int64(5), object(12)\n",
      "memory usage: 116.4+ KB\n"
     ]
    }
   ],
   "source": [
    "data = pd.read_csv('depression_anxiety_data.csv')\n",
    "data.info() "
   ]
  },
  {
   "cell_type": "code",
   "execution_count": 240,
   "metadata": {},
   "outputs": [],
   "source": [
    "label_encoder = LabelEncoder()\n",
    "data['anxiety_severity'] = label_encoder.fit_transform(data['anxiety_severity'])\n",
    "data['depression_severity'] = label_encoder.fit_transform(data['depression_severity'])"
   ]
  },
  {
   "cell_type": "code",
   "execution_count": 241,
   "metadata": {},
   "outputs": [],
   "source": [
    "from sklearn.preprocessing import LabelEncoder\n",
    "label_encoder = LabelEncoder()\n",
    "data['gender'] = label_encoder.fit_transform(data['gender'])\n",
    "data['who_bmi'] = label_encoder.fit_transform(data['who_bmi'])"
   ]
  },
  {
   "cell_type": "code",
   "execution_count": 242,
   "metadata": {},
   "outputs": [],
   "source": [
    "data = data.drop(columns=['id']) #removing ID column, since we dont need it\n"
   ]
  },
  {
   "cell_type": "code",
   "execution_count": 243,
   "metadata": {},
   "outputs": [],
   "source": [
    "data.fillna(0, inplace=True) #replaces null value with 0"
   ]
  },
  {
   "cell_type": "code",
   "execution_count": 244,
   "metadata": {},
   "outputs": [],
   "source": [
    "data['suicidal'] = data['suicidal'].astype(int) #converted string/booleans to int\n",
    "data['depression_diagnosis'] = data['depression_diagnosis'].astype(int)\n",
    "data['depression_treatment'] = data['depression_treatment'].astype(int)\n",
    "data['anxiety_diagnosis'] = data['anxiety_diagnosis'].astype(int)\n",
    "data['anxiety_treatment'] = data['anxiety_treatment'].astype(int)\n",
    "data['sleepiness'] = data['sleepiness'].astype(int)"
   ]
  },
  {
   "cell_type": "code",
   "execution_count": 245,
   "metadata": {},
   "outputs": [
    {
     "data": {
      "image/png": "[encoded data removed]",
      "text/plain": [
       "<Figure size 640x480 with 1 Axes>"
      ]
     },
     "metadata": {},
     "output_type": "display_data"
    }
   ],
   "source": [
    "sns.countplot(x='suicidal', data=data) #counts the total number of unique occurence in the column: \"Liked\", from the data\n",
    "plt.show() "
   ]
  },
  {
   "cell_type": "code",
   "execution_count": 246,
   "metadata": {},
   "outputs": [],
   "source": [
    "X = data.drop(columns=['anxiety_severity', 'depression_severity',  'suicidal']).values\n",
    "y = data['suicidal'].values"
   ]
  },
  {
   "cell_type": "code",
   "execution_count": 271,
   "metadata": {},
   "outputs": [],
   "source": [
    "\n",
    "X_train, X_test, y_train, y_test = train_test_split(X, y, test_size=0.2)"
   ]
  },
  {
   "cell_type": "code",
   "execution_count": 281,
   "metadata": {},
   "outputs": [],
   "source": [
    "model = DecisionTreeClassifier()\n",
    "model.fit(X_train, y_train)\n",
    "y_pred = model.predict(X_test)"
   ]
  },
  {
   "cell_type": "code",
   "execution_count": 282,
   "metadata": {},
   "outputs": [
    {
     "name": "stdout",
     "output_type": "stream",
     "text": [
      "6.369426751592357\n"
     ]
    }
   ],
   "source": [
    "count = 0\n",
    "for data in range(len(y_pred)):\n",
    "  if y_pred[data] != y_test[data]:\n",
    "    count = count + 1\n",
    "\n",
    "error_percentage = count/len(y_test) * 100\n",
    "print(error_percentage)"
   ]
  },
  {
   "cell_type": "code",
   "execution_count": 283,
   "metadata": {},
   "outputs": [
    {
     "name": "stdout",
     "output_type": "stream",
     "text": [
      "Accuracy: 0.9363057324840764\n"
     ]
    }
   ],
   "source": [
    "accuracy = model.score(X_test, y_test)\n",
    "print(\"Accuracy:\", accuracy)"
   ]
  }
 ],
 "metadata": {
  "kernelspec": {
   "display_name": "Python 3",
   "language": "python",
   "name": "python3"
  },
  "language_info": {
   "codemirror_mode": {
    "name": "ipython",
    "version": 3
   },
   "file_extension": ".py",
   "mimetype": "text/x-python",
   "name": "python",
   "nbconvert_exporter": "python",
   "pygments_lexer": "ipython3",
   "version": "3.9.0"
  }
 },
 "nbformat": 4,
 "nbformat_minor": 2
}
